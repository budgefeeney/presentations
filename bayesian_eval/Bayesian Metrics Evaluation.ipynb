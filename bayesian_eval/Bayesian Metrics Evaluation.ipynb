{
 "cells": [
  {
   "cell_type": "markdown",
   "metadata": {},
   "source": [
    "# Abstract\n",
    "\n",
    "This document proposes a robust way to calculate precision and recall. We use straightforward Bayesian techniques to turn results from a cross validation, into a pair of distributions over the precision and recall of the model when used on a dataset with a different distribution of classes to that in the dataset."
   ]
  },
  {
   "cell_type": "code",
   "execution_count": 11,
   "metadata": {},
   "outputs": [],
   "source": [
    "import pandas as pd\n",
    "from IPython.display import display, Markdown\n",
    "import scipy.stats as stats\n",
    "import numpy as np\n",
    "import matplotlib.pyplot as plt"
   ]
  },
  {
   "cell_type": "markdown",
   "metadata": {},
   "source": [
    "# Binary Classification Problems\n",
    "\n",
    "In this section we'll use EV detection as a motivating example. The output is `true` or `false`, depending on whether the household has an EV or not respectively.\n",
    "\n",
    "## Single Train/Test Split, No Bounds\n",
    "\n",
    "Assume we have a single train/test split, that we've trained a model, that we've generated predictions and so ended up with the following confusion matrix"
   ]
  },
  {
   "cell_type": "code",
   "execution_count": 4,
   "metadata": {},
   "outputs": [
    {
     "data": {
      "text/html": [
       "<div>\n",
       "<style scoped>\n",
       "    .dataframe tbody tr th:only-of-type {\n",
       "        vertical-align: middle;\n",
       "    }\n",
       "\n",
       "    .dataframe tbody tr th {\n",
       "        vertical-align: top;\n",
       "    }\n",
       "\n",
       "    .dataframe thead tr th {\n",
       "        text-align: left;\n",
       "    }\n",
       "</style>\n",
       "<table border=\"1\" class=\"dataframe\">\n",
       "  <thead>\n",
       "    <tr>\n",
       "      <th></th>\n",
       "      <th></th>\n",
       "      <th colspan=\"2\" halign=\"left\">Actual</th>\n",
       "    </tr>\n",
       "    <tr>\n",
       "      <th></th>\n",
       "      <th></th>\n",
       "      <th>Positive</th>\n",
       "      <th>Negative</th>\n",
       "    </tr>\n",
       "  </thead>\n",
       "  <tbody>\n",
       "    <tr>\n",
       "      <th rowspan=\"2\" valign=\"top\">Predicted</th>\n",
       "      <th>True</th>\n",
       "      <td>53</td>\n",
       "      <td>27</td>\n",
       "    </tr>\n",
       "    <tr>\n",
       "      <th>False</th>\n",
       "      <td>17</td>\n",
       "      <td>93</td>\n",
       "    </tr>\n",
       "    <tr>\n",
       "      <th>Total</th>\n",
       "      <th></th>\n",
       "      <td>70</td>\n",
       "      <td>120</td>\n",
       "    </tr>\n",
       "  </tbody>\n",
       "</table>\n",
       "</div>"
      ],
      "text/plain": [
       "                  Actual         \n",
       "                Positive Negative\n",
       "Predicted True        53       27\n",
       "          False       17       93\n",
       "Total                 70      120"
      ]
     },
     "execution_count": 4,
     "metadata": {},
     "output_type": "execute_result"
    }
   ],
   "source": [
    "from ast import Mult\n",
    "\n",
    "from pandas import MultiIndex\n",
    "\n",
    "def make_cm(tp, fp, fn, tn) -> pd.DataFrame:\n",
    "    return pd.DataFrame(\n",
    "        [[tp, fp],\n",
    "        [fn, tn],\n",
    "        [tp+fn, fp+tn]],\n",
    "        columns=pd.MultiIndex.from_tuples(\n",
    "            [('Actual', 'Positive'), ('Actual', 'Negative')],\n",
    "        ),\n",
    "        index=pd.MultiIndex.from_tuples(\n",
    "            [('Predicted', 'True'),\n",
    "            ('Predicted', 'False'),\n",
    "            ('Total', '')]\n",
    "        )\n",
    "    )\n",
    "\n",
    "cm = make_cm(53, 27, 17, 93)\n",
    "tp = lambda df: df.iloc[0, 0]\n",
    "fp = lambda df: df.iloc[0, 1]\n",
    "fn = lambda df: df.iloc[1, 0]\n",
    "tn = lambda df: df.iloc[1, 1]\n",
    "cm"
   ]
  },
  {
   "cell_type": "markdown",
   "metadata": {},
   "source": [
    "For reference, we denote by $N^+$ and $N^-$ the total number of positive and negative samples, and by by $N = N^+ + N^-$ the total size of the validation dataset used to construct the validation confusion matrix.\n",
    "\n",
    "The simple definitions of precision and recall are\n",
    "\n",
    "$$\n",
    "\\begin{aligned}\n",
    "Prec &= \\frac{TP}{TP + FP} \\\\\n",
    "Rec & = \\frac{TP}{TP + FN} = \\frac{TP}{N^+}\n",
    "\\end{aligned}\n",
    "$$\n",
    "\n",
    "Where TP, FP, TN and FN refer to true-positives, false-positive, true-negatives and false-negatives respectively.\n",
    "\n",
    "This gives us the following"
   ]
  },
  {
   "cell_type": "code",
   "execution_count": 5,
   "metadata": {},
   "outputs": [
    {
     "data": {
      "text/html": [
       "<div>\n",
       "<style scoped>\n",
       "    .dataframe tbody tr th:only-of-type {\n",
       "        vertical-align: middle;\n",
       "    }\n",
       "\n",
       "    .dataframe tbody tr th {\n",
       "        vertical-align: top;\n",
       "    }\n",
       "\n",
       "    .dataframe thead th {\n",
       "        text-align: right;\n",
       "    }\n",
       "</style>\n",
       "<table border=\"1\" class=\"dataframe\">\n",
       "  <thead>\n",
       "    <tr style=\"text-align: right;\">\n",
       "      <th></th>\n",
       "      <th></th>\n",
       "    </tr>\n",
       "  </thead>\n",
       "  <tbody>\n",
       "    <tr>\n",
       "      <th>Precision</th>\n",
       "      <td>0.66</td>\n",
       "    </tr>\n",
       "    <tr>\n",
       "      <th>Recall</th>\n",
       "      <td>0.76</td>\n",
       "    </tr>\n",
       "  </tbody>\n",
       "</table>\n",
       "</div>"
      ],
      "text/plain": [
       "               \n",
       "Precision  0.66\n",
       "Recall     0.76"
      ]
     },
     "execution_count": 5,
     "metadata": {},
     "output_type": "execute_result"
    }
   ],
   "source": [
    "pd.DataFrame({\n",
    "    'Precision': [tp(cm) / (tp(cm) + fp(cm))],\n",
    "    'Recall': [tp(cm) / (tp(cm) + fn(cm))]\n",
    "}).T.round(2).rename(columns={0:''})"
   ]
  },
  {
   "cell_type": "markdown",
   "metadata": {},
   "source": [
    "## Single Train/Test Split, With Bounds\n",
    "\n",
    "In our definitions of precision and recall\n",
    "\n",
    " * $TP$ and $FP$ are unknowable random variables\n",
    " * $N^+$ and $N^-$ the number of positive and negative cases in the validation dataset, are known observed quantities.\n",
    " * $FN = N^+ - TP$ and $TN = N^- - FP$ are derived random variables.\n",
    "\n",
    "Specifically for our model, if we let $y$ and $\\hat{y}$ refer to actual and predicted values respectively, then\n",
    "\n",
    "$$\n",
    "\\begin{aligned}\n",
    "p(\\hat{y}=1|y=1) & = \\tau \\qquad &  p(\\hat{y}=1|y=0) & = \\phi \\\\\n",
    "p(\\hat{y}=0|y=1) &= 1 - \\tau\\qquad & p(\\hat{y}=0|y=0) &= 1 - \\phi\n",
    "\\end{aligned}\n",
    "$$\n",
    "\n",
    "Note that $\\tau$ is in fact a different way of defining the _recall_ metric, also known as _sensitivity_ or _true-positive rate_ (TPR). Similarly $1 - \\phi$ is the negative recall, or _specificity_ or _true-negative rate_ (TNR).\n",
    "\n",
    "Note also that the definitions of the true-positive rate and true-negative rate are both invariant to the proportion of positive to negative samples in the dataset.\n",
    "\n",
    "Taking the Bayesian approach, we can establish the prior, likelihood, and posterior distributions\n",
    "\n",
    "$$\n",
    "\\begin{aligned}\n",
    "\\tau & \\sim Beta(\\alpha_0, \\beta_0) &\n",
    "\\phi & \\sim Beta(\\lambda_0, \\psi_0) \\\\\n",
    "TP & \\sim Bin(\\tau; P) &\n",
    "FP & \\sim Bin(\\phi; N) \\\\\n",
    "\\tau|\\mathcal{Y} & \\sim Beta(\\alpha_N, \\beta_N) &\n",
    "\\phi|\\mathcal{Y} & \\sim Beta(\\lambda_N, \\psi_N) \\\\\n",
    "\\end{aligned}\n",
    "$$\n",
    "\n",
    "While [there's a lot that can be said about what consitutes a non-informative prior](https://stats.stackexchange.com/a/298176), in practice if the choice of priors over $\\tau$ or $\\phi$ could meaningfully affect our end result, then we wouldn't have enough data to be making any decisions from in the first place.\n",
    "\n",
    "So we just use flat, weak Beta distributions and use the standard conjugate formalas to obtain the parameterisations of the posteriors too\n",
    "\n",
    "$$\n",
    "\\begin{aligned}\n",
    "\\tau & \\sim Beta(1, 1) &\n",
    "\\phi & \\sim Beta(1, 1) \\\\\n",
    "\\tau|\\mathcal{X} & \\sim Beta(1 + TP, 1 + FN) &\n",
    "\\phi|\\mathcal{X} & \\sim Beta(1 + FP, 1 + TN) \\\\\n",
    "\\end{aligned}\n",
    "$$\n",
    "\n",
    "From this it's trivial to create Bayesian estimates of Recall.\n",
    "\n",
    "The expected recall is just \n",
    "\n",
    "$$\n",
    "\\begin{aligned}\n",
    "\\mathbb{E}_{\\tau|\\mathcal{Y}}[\\tau]\n",
    "& = \\frac{\\alpha_N}{\\alpha_N + \\beta_N} \\\\\n",
    "& = \\frac{1 + TP}{2 + TP + FN}\n",
    "\\end{aligned}\n",
    "$$\n",
    "\n",
    "And we can easily create a credibility interval by just obtaining the quantiles from the distribution $Beta(1 + TP, 1 + FN)$\n",
    "\n",
    "Precision is harder to calculate. \n",
    "\n",
    "We need to obtain an estimate for \n",
    "\n",
    "$$\n",
    "\\begin{aligned}\n",
    "\\mathbb{E}_{\\tau, \\phi|\\mathcal{Y}}[\n",
    "    \\frac{TP}{TP + FP}\n",
    "] = \n",
    "\\mathbb{E}_{\\tau, \\phi|\\mathcal{Y}}[\n",
    "    \\frac{\\tau P}{\\tau P + \\phi N}\n",
    "]\n",
    "\\end{aligned}\n",
    "$$\n",
    "where $FP = \\phi N^-$ \n",
    "\n",
    "(recall $N^-$ is the count of negative samples, and $\\phi = p(\\hat{y}=1|y=0)$)\n"
   ]
  },
  {
   "cell_type": "markdown",
   "metadata": {},
   "source": [
    "As far as I can see, even with the independence assumption between $\\tau$ and $\\phi$, there is no way to analytically solve or approximate this integral, hence we just use sampling\n",
    "\n",
    "$$\n",
    "\\begin{aligned}\n",
    "\\mathbb{E}_{\\tau, \\phi|\\mathcal{X}}[\n",
    "    \\frac{TP}{TP + FP}\n",
    "] \n",
    "& \\approx \\frac{1}{S} \\sum_{s=1}^S \\frac{\\tau^{(s)}P}{\\tau^{(s)}P + {\\phi^{(s)}N}} \\qquad\n",
    "& \\tau^{(s)},\\phi^{(s)} & \\sim p(\\tau|\\mathcal{X})p(\\psi|\\mathcal{X}) \n",
    "\\end{aligned}\n",
    "$$\n",
    "\n",
    "We can also use sampling to approximate the quantiles of the distribution.\n",
    "\n",
    "This allows us to derive bounded estimates of our precision and recall."
   ]
  },
  {
   "cell_type": "code",
   "execution_count": 6,
   "metadata": {},
   "outputs": [],
   "source": [
    "a, b = 1 + tp(cm), 1 + fn(cm)\n",
    "\n",
    "l, s = 1 + fp(cm), 1 + tn(cm)\n",
    "\n",
    "recall = stats.beta(a, b).mean()\n",
    "recall_l, recall_u = stats.beta(a, b).ppf([0.025, 0.975])\n",
    "\n",
    "P, N = cm.iloc[-1, :]\n",
    "\n",
    "SAMPLE_SIZE = 1000\n",
    "prec_samples = pd.Series([\n",
    "    (t *  P) / (t * P + f * N)\n",
    "    for t, f in zip(\n",
    "        stats.beta(a, b).rvs(SAMPLE_SIZE),\n",
    "        stats.beta(l, s).rvs(SAMPLE_SIZE)\n",
    "    )\n",
    "])\n",
    "prec = prec_samples.mean()\n",
    "[prec_l, prec_u] = prec_samples.quantile([0.025, 0.975])"
   ]
  },
  {
   "cell_type": "code",
   "execution_count": 7,
   "metadata": {},
   "outputs": [
    {
     "data": {
      "text/html": [
       "<div>\n",
       "<style scoped>\n",
       "    .dataframe tbody tr th:only-of-type {\n",
       "        vertical-align: middle;\n",
       "    }\n",
       "\n",
       "    .dataframe tbody tr th {\n",
       "        vertical-align: top;\n",
       "    }\n",
       "\n",
       "    .dataframe thead th {\n",
       "        text-align: right;\n",
       "    }\n",
       "</style>\n",
       "<table border=\"1\" class=\"dataframe\">\n",
       "  <thead>\n",
       "    <tr style=\"text-align: right;\">\n",
       "      <th></th>\n",
       "      <th>2.5th</th>\n",
       "      <th>Mean</th>\n",
       "      <th>97.5th</th>\n",
       "    </tr>\n",
       "  </thead>\n",
       "  <tbody>\n",
       "    <tr>\n",
       "      <th>Precision</th>\n",
       "      <td>0.58</td>\n",
       "      <td>0.66</td>\n",
       "      <td>0.74</td>\n",
       "    </tr>\n",
       "    <tr>\n",
       "      <th>Recall</th>\n",
       "      <td>0.64</td>\n",
       "      <td>0.75</td>\n",
       "      <td>0.84</td>\n",
       "    </tr>\n",
       "  </tbody>\n",
       "</table>\n",
       "</div>"
      ],
      "text/plain": [
       "           2.5th  Mean  97.5th\n",
       "Precision   0.58  0.66    0.74\n",
       "Recall      0.64  0.75    0.84"
      ]
     },
     "execution_count": 7,
     "metadata": {},
     "output_type": "execute_result"
    }
   ],
   "source": [
    "pd.DataFrame(\n",
    "    [\n",
    "        [prec_l, prec, prec_u],\n",
    "        [recall_l, recall, recall_u]\n",
    "    ],\n",
    "    columns=['2.5th', 'Mean', '97.5th'],\n",
    "    index=['Precision', 'Recall']\n",
    ").round(2)"
   ]
  },
  {
   "cell_type": "markdown",
   "metadata": {},
   "source": [
    "## Single Train/Test Split, With Bounds, Adjusted for Population\n",
    "\n",
    "Till now, our evaluation methods have assumed that the distribution of data in the dataset matches the distribution of data in the real world.\n",
    "\n",
    "In reality this isn't the case: in our dataset 37% of households have EVs; in the real world 3% of households have EVs; but amongst our UK customers, 10% of housholds have reported having EVs.\n",
    "\n",
    "So lets assume that the population to whom the model is deployed is one in which roughly 8-12% of users have EVs. We can (very coarsely) approximate this with a $Beta(a_{pop}=110, b_{pop}=1000)$ distribution whose 1st and 99th percentiles are 0.08 and 0.12 respectively.\n",
    "\n",
    "Alternatively we could just use a uniform distribution on the closed interval $[0.08, 0.12]$, since -- as we'll see later -- there's no (obvious) analytical benefit in using the Beta distribution"
   ]
  },
  {
   "cell_type": "code",
   "execution_count": 22,
   "metadata": {},
   "outputs": [
    {
     "data": {
      "image/png": "[encoded data removed]",
      "text/plain": [
       "<Figure size 1800x480 with 1 Axes>"
      ]
     },
     "metadata": {},
     "output_type": "display_data"
    }
   ],
   "source": [
    "xs = np.linspace(0, 1.00, 2000)\n",
    "beta_ys = stats.beta(110, 1000).pdf(xs)\n",
    "\n",
    "uni_ys = np.full_like(beta_ys, 1 / (0.12 - 0.08))\n",
    "uni_ys[xs < 0.08] = 0\n",
    "uni_ys[xs > 0.12] = 0\n",
    "\n",
    "fig, ax = plt.subplots(figsize=(15, 4), dpi=120)\n",
    "ax.plot(xs, beta_ys, label=\"Beta(110, 1000)\")\n",
    "ax.plot(xs, uni_ys, label=\"Uniform(0.08, 0.12\")\n",
    "ax.legend();"
   ]
  },
  {
   "cell_type": "markdown",
   "metadata": {},
   "source": [
    "Given the state of our uncertainty, the vaguer uniform is probably the more advisable choice."
   ]
  },
  {
   "cell_type": "markdown",
   "metadata": {},
   "source": [
    "Assuming our distribution of the proportion of population that falls in the positive case is\n",
    "\n",
    "$$\n",
    "\\rho \\sim U(0.08, 0.12)\n",
    "$$\n",
    "\n",
    "But the proportion in our dataset is $r = \\frac{N^+}{N^-}$\n",
    "\n",
    "We already know that distribution over recall will not change as we move from one population to the next, since the true-positive rate is invariant to the mix of true and negative samples in a population\n",
    "\n",
    "So only precision will change. \n",
    "\n",
    "Our task is to evaluate precision on the a dataset with the statistics of the population, but our actual dataset is different.\n",
    "\n",
    "If we denote the empirical distribution of samples from our dataset be denoted $q(y)$ and the distribution of samples from the (unobserved) population is $p(y)$, then \n",
    "\n",
    "$$\n",
    "\\begin{aligned}\n",
    "TP = \\int \\frac{}\n",
    "\\end{aligned|}\n",
    "$$"
   ]
  },
  {
   "cell_type": "markdown",
   "metadata": {},
   "source": []
  }
 ],
 "metadata": {
  "kernelspec": {
   "display_name": "Python 3.10.6 ('bayesian-metric-calcs')",
   "language": "python",
   "name": "python3"
  },
  "language_info": {
   "codemirror_mode": {
    "name": "ipython",
    "version": 3
   },
   "file_extension": ".py",
   "mimetype": "text/x-python",
   "name": "python",
   "nbconvert_exporter": "python",
   "pygments_lexer": "ipython3",
   "version": "3.10.6"
  },
  "orig_nbformat": 4,
  "vscode": {
   "interpreter": {
    "hash": "2a9336ac2316900e2557c0da30318e74d449209b76e78e3d17fd242b5fcad756"
   }
  }
 },
 "nbformat": 4,
 "nbformat_minor": 2
}
