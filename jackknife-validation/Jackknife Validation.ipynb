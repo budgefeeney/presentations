{
 "cells": [
  {
   "cell_type": "markdown",
   "id": "cd54a173-ca7e-4f45-be76-407f8e094371",
   "metadata": {},
   "source": [
    "# Abstract\n",
    "\n",
    "In this document we provide a deeper explanation of what Cross Validation is, when it's accurate, and when it's inaccurate.\n",
    "\n",
    "We start by first"
   ]
  }
 ],
 "metadata": {
  "kernelspec": {
   "display_name": "Python 3 (ipykernel)",
   "language": "python",
   "name": "python3"
  },
  "language_info": {
   "codemirror_mode": {
    "name": "ipython",
    "version": 3
   },
   "file_extension": ".py",
   "mimetype": "text/x-python",
   "name": "python",
   "nbconvert_exporter": "python",
   "pygments_lexer": "ipython3",
   "version": "3.11.0"
  }
 },
 "nbformat": 4,
 "nbformat_minor": 5
}
