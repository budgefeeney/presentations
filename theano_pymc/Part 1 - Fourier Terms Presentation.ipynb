{
 "cells": [
  {
   "cell_type": "markdown",
   "metadata": {
    "slideshow": {
     "slide_type": "slide"
    }
   },
   "source": [
    "# Fourier Series Approximation"
   ]
  },
  {
   "cell_type": "code",
   "execution_count": 1,
   "metadata": {
    "slideshow": {
     "slide_type": "skip"
    }
   },
   "outputs": [],
   "source": [
    "from ipywidgets import interact, interactive, fixed, interact_manual\n",
    "import ipywidgets as widgets\n",
    "\n",
    "%matplotlib inline\n",
    "from ipywidgets import interactive,interact,FloatSlider,IntSlider,interactive,HBox\n",
    "import matplotlib.pyplot as plt\n",
    "import numpy as np\n",
    "import math\n"
   ]
  },
  {
   "cell_type": "markdown",
   "metadata": {
    "slideshow": {
     "slide_type": "slide"
    }
   },
   "source": [
    "## Sine Function\n",
    "\n",
    "$\\sin(\\theta)$ ranges from -1 to +1 and repeats every $2\\pi$ radians.\n",
    "\n",
    "We can rescale and relocated it by using $b + A \\sin(\\phi + \\theta)$"
   ]
  },
  {
   "cell_type": "code",
   "execution_count": 2,
   "metadata": {
    "slideshow": {
     "slide_type": "fragment"
    },
    "tags": []
   },
   "outputs": [
    {
     "data": {
      "application/vnd.jupyter.widget-view+json": {
       "model_id": "64b5e2c5c1234857b215a24a063df4ab",
       "version_major": 2,
       "version_minor": 0
      },
      "text/plain": [
       "interactive(children=(IntSlider(value=0, description='φ', max=10, min=-10), FloatSlider(value=1.0, description…"
      ]
     },
     "metadata": {},
     "output_type": "display_data"
    }
   ],
   "source": [
    "def f(φ, A=1, b=0):\n",
    "    plt.figure(2)\n",
    "    x = np.linspace(0, 52, num=52 * 5)\n",
    "    plt.plot(x, b + A * np.sin(φ + x))\n",
    "    plt.plot([0, 0], [-5, 5], 'b:')\n",
    "    plt.ylim(-5, 5)\n",
    "    plt.xlim(0,52)\n",
    "    plt.show()\n",
    "\n",
    "interactive_plot = interactive(f, \n",
    "                               φ=(-10, 10, 1),\n",
    "                               A=(0, 10, 0.1),\n",
    "                               b=(-3, 3, 0.5),\n",
    "                               )\n",
    "output = interactive_plot.children[-1]\n",
    "output.layout.height = '350px'\n",
    "interactive_plot"
   ]
  },
  {
   "cell_type": "markdown",
   "metadata": {},
   "source": [
    "# Approximating Functions with a Sum of Sine Waves\n",
    "\n",
    "$$\n",
    "f(x) = \\sum_{l=1}^3 A_l  \\sin(\\phi_l + \\theta)\n",
    "$$"
   ]
  },
  {
   "cell_type": "code",
   "execution_count": 3,
   "metadata": {
    "tags": []
   },
   "outputs": [
    {
     "data": {
      "application/vnd.jupyter.widget-view+json": {
       "model_id": "69124f748ff7455eb755569b52ac7991",
       "version_major": 2,
       "version_minor": 0
      },
      "text/plain": [
       "interactive(children=(IntSlider(value=0, description='φ1', max=10, min=-10), FloatSlider(value=1.0, descriptio…"
      ]
     },
     "metadata": {},
     "output_type": "display_data"
    }
   ],
   "source": [
    "def f(φ1=0, A1=1,\n",
    "      φ2=1, A2=1,\n",
    "      φ3=2, A3=1,\n",
    "     ):\n",
    "    plt.figure(2)\n",
    "    x = np.linspace(0, 52, num=52 * 5)\n",
    "    y1, y2, y3 = A1 * np.sin(φ1 + x), A2 * np.sin(φ2 + x), A3 * np.sin(φ3 + x)\n",
    "    plt.plot(x, y1, 'r:')\n",
    "    plt.plot(x, y2, 'g:')\n",
    "    plt.plot(x, y3, 'b:')\n",
    "    plt.plot(x, y1 + y2 + y3, 'k-')\n",
    "    plt.ylim(-5, 5)\n",
    "    plt.xlim(0,52)\n",
    "    plt.show()\n",
    "\n",
    "interactive_plot = interactive(f, \n",
    "                               φ1=(-10, 10, 1),\n",
    "                               A1=(0, 10, 0.1),\n",
    "                               φ2=(-10, 10, 1),\n",
    "                               A2=(0, 10, 0.1),\n",
    "                               φ3=(-10, 10, 1),\n",
    "                               A3=(0, 10, 0.1),\n",
    "                               )\n",
    "output = interactive_plot.children[-1]\n",
    "output.layout.height = '350px'\n",
    "interactive_plot"
   ]
  },
  {
   "cell_type": "markdown",
   "metadata": {},
   "source": [
    "# Fourier Series\n",
    "\n",
    " * The _period_ of a wave form $T$ is how often it repeats. E.g. every day, or every week, or every year.\n",
    " * If it's a year, and we have a data-point for every week, then the $t$-th datapoint is $100 \\times \\frac{t}{52.18}$ percent thoughout the year.\n",
    "     * $52.18 = \\frac{365}{7}$ is the length of a year in weeks\n",
    " * Since the domain $\\sin$ is $[0 \\ldots 2\\pi]$, then the t-th week is $\\frac{t}{T} \\times 2 \\pi$ of the way through that intervsl.\n",
    "     \n",
    "Mathematicians<sup>[<font color=blue>Who?</font>]</sup> have shown that _any_ periodic (e.g. yearly repeating) signal can be reconstructed by an infinite sum of waves that are multiples of the fundamental frequency $\\frac{1}{T}$\n",
    "\n",
    " * i.e. The l-th multiple of the frequency, at $100 \\times \\frac{t}{T}$ percent of the way through the period,  is $l \\times 2 \\pi \\frac{t}{T}$\n",
    " \n",
    "So it becomes\n",
    "\n",
    "$$f(t) = \\sum_{l=1}^\\infty A_l \\sin\\left(\\phi + l\\times 2\\pi \\frac{t}{T}\\right)$$"
   ]
  },
  {
   "cell_type": "code",
   "execution_count": 4,
   "metadata": {},
   "outputs": [],
   "source": [
    "π = math.pi"
   ]
  },
  {
   "cell_type": "code",
   "execution_count": 5,
   "metadata": {
    "tags": []
   },
   "outputs": [
    {
     "data": {
      "application/vnd.jupyter.widget-view+json": {
       "model_id": "e09ef19148e64ae085bfdcb4826d62ce",
       "version_major": 2,
       "version_minor": 0
      },
      "text/plain": [
       "interactive(children=(IntSlider(value=0, description='φ1', max=10, min=-10), FloatSlider(value=1.0, descriptio…"
      ]
     },
     "metadata": {},
     "output_type": "display_data"
    }
   ],
   "source": [
    "def f(φ1=0, A1=1,\n",
    "      φ2=0, A2=1,\n",
    "      φ3=0, A3=1,\n",
    "     ):\n",
    "    plt.figure(2)\n",
    "    t = np.linspace(0, 52, num=52 * 5)\n",
    "    \n",
    "    T = 365/7\n",
    "    p = 2 * π * t / T\n",
    "    \n",
    "    y1, y2, y3 = A1 * np.sin(φ1 + 1 * p), A2 * np.sin(φ2 + 2 * p), A3 * np.sin(φ3 + 3 * p)\n",
    "    plt.plot(t, y1, 'r:')\n",
    "    plt.plot(t, y2, 'g:')\n",
    "    plt.plot(t, y3, 'b:')\n",
    "    plt.plot(t, y1 + y2 + y3, 'k-')\n",
    "    plt.ylim(-5, 5)\n",
    "    plt.xlim(0,52)\n",
    "    plt.show()\n",
    "\n",
    "interactive_plot = interactive(f, \n",
    "                               φ1=(-10, 10, 1),\n",
    "                               A1=(0, 10, 0.1),\n",
    "                               φ2=(-10, 10, 1),\n",
    "                               A2=(0, 10, 0.1),\n",
    "                               φ3=(-10, 10, 1),\n",
    "                               A3=(0, 10, 0.1),\n",
    "                               )\n",
    "output = interactive_plot.children[-1]\n",
    "output.layout.height = '350px'\n",
    "interactive_plot"
   ]
  },
  {
   "cell_type": "markdown",
   "metadata": {},
   "source": [
    "# Getting a Computer to find $A_l$ and $\\phi_l$ for you\n",
    "\n",
    "Ordinarily to find the best parameter values you constract an error-function (e.g. sum of squared error), take its derivative, and solve for zero on the basis that the slope is 0 at the mimum of the error)\n",
    "\n",
    "However this is not really possible with $\\phi$ inside $\\sin(\\cdot)$\n",
    "$$\n",
    "\\frac{d}{d\\phi}\\sum_i (y_i - \\sin(\\phi + t))^2 = \\sum_i -2\\cos(\\phi + t)(y - \\sin(\\phi + t))  = 0\n",
    "$$\n",
    "which isn't helpful. However with some trigonometry you can split it into a sum of independent terms:\n",
    "\n",
    "We can use the identity $\\sin(x+y) = \\sin(x)\\cos(y) + \\cos(x)\\sin(y)$ to split it into a sum\n",
    "\n",
    "$$\n",
    "\\begin{align*}\n",
    "A \\sin (\\phi + t) & = A\\left(\\sin(\\phi)\\cos(t) + \\cos(\\phi)\\sin(t)\\right)\n",
    "\\end{align*}\n",
    "$$\n",
    "\n",
    "Then if we let $w_1 = A \\cos(\\phi)$ and $w_2 = A \\sin(\\phi)$ this reduces to\n",
    "\n",
    "$$\n",
    "\\begin{align*}\n",
    "A \\sin (\\phi + t) & = w_1 \\cos(t) + w_2 \\sin(t) \\\\\n",
    " & = \\boldsymbol{w}^\\top \\boldsymbol{x}\n",
    "\\end{align*}\n",
    "$$\n",
    "where $\\boldsymbol{w} = \\binom{w_1}{w_2}$ and $\\boldsymbol{x} = \\binom{\\cos(t)}{\\sin(t)}$\n",
    "\n",
    "Thus if we construct an input matrix, where $x_n(t)$ indicates the time of year of the n-th datapoint\n",
    "\n",
    "$$\n",
    "\\begin{align*}\n",
    "\\boldsymbol{X} = \\left(\\begin{array}{ccccc}\n",
    "    \\cos(2 \\pi l \\frac{x_1(t)}{T})\n",
    "    & \\sin(2 \\pi l \\frac{x_1(t)}{T}) \n",
    "    & \\ldots \n",
    "    & \\cos(2 \\pi L \\frac{x_1(t)}{T}) \n",
    "    & \\sin(2 \\pi L \\frac{x_1(t)}{T}) \\\\\n",
    "    \\vdots \n",
    "    & \\vdots \n",
    "    & \\ddots \n",
    "    & \\vdots \n",
    "    & \\vdots \\\\\n",
    "    \\cos(2 \\pi l \\frac{x_N(t)}{T})\n",
    "    & \\sin(2 \\pi l \\frac{x_N(t)}{T}) \n",
    "    & \\ldots \n",
    "    & \\cos(2 \\pi L \\frac{x_N(t)}{T}) \n",
    "    & \\sin(2 \\pi L \\frac{x_N(t)}{T}) \\\\\n",
    "\\end{array}\\right)\n",
    "\\end{align*}\n",
    "$$\n",
    "\n",
    "We can use linear regression to obtain the $L$ fourier fits $\\phi = \\frac{w_2}{\\sqrt{w_1^2 + w_2^2}}, A = \\sqrt{w_1^2 + w_2^2}$ terms to the given line\n",
    "\n",
    "The above trick to work back from weights to amplitudes is given by the [linear sine/cosine identity](https://en.wikipedia.org/wiki/List_of_trigonometric_identities#Linear_combinations)\n",
    "\n",
    "$$\n",
    "\\begin{align*}\n",
    "a \\sin(t) + b \\cos(t) = \\sqrt{a^2 + b^2}\\left(\n",
    "    \\frac{a}{\\sqrt{a^2 + b^2}} \\sin(t)\n",
    "    + \\frac{b}{\\sqrt{a^2 + b^2}} \\cos(t)\n",
    "\\right)\n",
    "\\end{align*}\n",
    "$$\n",
    "with some help from \n",
    "\n",
    "For a complete discussion of this, refer to [these notes](http://www-stat.wharton.upenn.edu/~stine/stat910/lectures/06_harmonic_regr.pdf)"
   ]
  },
  {
   "cell_type": "markdown",
   "metadata": {},
   "source": [
    "An issue here is that both weights are tied to both amplitude and phase, so if we wanted to keep phase tied and vary amplitude, how would we do it?"
   ]
  },
  {
   "cell_type": "markdown",
   "metadata": {},
   "source": [
    "In the graph below, we keep `a` fixed and vary `b` across two graphs"
   ]
  },
  {
   "cell_type": "code",
   "execution_count": 6,
   "metadata": {
    "tags": []
   },
   "outputs": [
    {
     "data": {
      "application/vnd.jupyter.widget-view+json": {
       "model_id": "5c67a676da1e4177a14d7ef9c152c2f8",
       "version_major": 2,
       "version_minor": 0
      },
      "text/plain": [
       "HBox(children=(IntSlider(value=0, description='a_1', max=10, min=-10), IntSlider(value=0, description='a_2', m…"
      ]
     },
     "metadata": {},
     "output_type": "display_data"
    },
    {
     "data": {
      "application/vnd.jupyter.widget-view+json": {
       "model_id": "d910ec48fb68416e8a1902100f2a2f13",
       "version_major": 2,
       "version_minor": 0
      },
      "text/plain": [
       "HBox(children=(IntSlider(value=1, description='b11', max=10, min=-10), IntSlider(value=1, description='b12', m…"
      ]
     },
     "metadata": {},
     "output_type": "display_data"
    },
    {
     "data": {
      "application/vnd.jupyter.widget-view+json": {
       "model_id": "138135bf20a446f69ca7b99620cc23d9",
       "version_major": 2,
       "version_minor": 0
      },
      "text/plain": [
       "HBox(children=(IntSlider(value=2, description='b21', max=10, min=-10), IntSlider(value=2, description='b22', m…"
      ]
     },
     "metadata": {},
     "output_type": "display_data"
    },
    {
     "data": {
      "application/vnd.jupyter.widget-view+json": {
       "model_id": "108f1007161741899eab995b1d1d82b6",
       "version_major": 2,
       "version_minor": 0
      },
      "text/plain": [
       "Output()"
      ]
     },
     "metadata": {},
     "output_type": "display_data"
    }
   ],
   "source": [
    "def f(a_1=0, b11=1, b21=2,\n",
    "      a_2=0, b12=1, b22=2,\n",
    "      a_3=0, b13=1, b23=2\n",
    "     ):\n",
    "    fig, axes = plt.subplots(figsize=(18,6), nrows=1, ncols=2)\n",
    "    \n",
    "    T = 365.25/7\n",
    "    ts = np.linspace(1, 52, 52)\n",
    "    angles = np.linspace(1, 52, 52) / T * 2 * π \n",
    "    X = np.vstack((np.sin(angles), np.cos(angles))).T\n",
    "    \n",
    "    y1s = [X @ np.array([a_1, b11]), X @ np.array([a_1, b21])]\n",
    "    y2s = [X @ np.array([a_2, b12]), X @ np.array([a_2, b22])]\n",
    "    y3s = [X @ np.array([a_3, b13]), X @ np.array([a_3, b23])]\n",
    "    \n",
    "    for a in range(len(axes)):\n",
    "        axes[a].plot(ts, y1s[a], 'r:')\n",
    "        axes[a].plot(ts, y2s[a], 'g:')\n",
    "        axes[a].plot(ts, y3s[a], 'b:')\n",
    "        axes[a].plot(ts, y1s[a] + y2s[a] + y3s[a], 'k-')\n",
    "        axes[a].set_ylim(-10, 10)\n",
    "        axes[a].set_xlim(0,52)\n",
    "\n",
    "    fig.show()\n",
    "\n",
    "interactive_plot = interactive(f, \n",
    "                               a_1=(-10, 10, 1),\n",
    "                               a_2=(-10, 10, 1),\n",
    "                               a_3=(-10, 10, 1),\n",
    "                               \n",
    "                               b11=(-10, 10, 1),\n",
    "                               b12=(-10, 10, 1),\n",
    "                               b13=(-10, 10, 1),\n",
    "                               \n",
    "                               b21=(-10, 10, 1),\n",
    "                               b22=(-10, 10, 1),\n",
    "                               b23=(-10, 10, 1),\n",
    "                               )\n",
    "# output = interactive_plot.children[-1]\n",
    "# output.layout.height = '350px'\n",
    "# interactive_plot\n",
    "\n",
    "display(HBox([a for a in interactive_plot.children if type(a) is IntSlider and a.description[0] == 'a']))\n",
    "display(HBox([a for a in interactive_plot.children if type(a) is IntSlider and a.description[:2] == 'b1']))\n",
    "display(HBox([a for a in interactive_plot.children if type(a) is IntSlider and a.description[:2] == 'b2']))\n",
    "display(interactive_plot.children[-1])"
   ]
  },
  {
   "cell_type": "code",
   "execution_count": 7,
   "metadata": {
    "tags": []
   },
   "outputs": [
    {
     "data": {
      "application/vnd.jupyter.widget-view+json": {
       "model_id": "f93b50ee6f9a4b97b70dab765ecf6d95",
       "version_major": 2,
       "version_minor": 0
      },
      "text/plain": [
       "HBox(children=(IntSlider(value=1, description='a11', max=10, min=-10), IntSlider(value=1, description='a12', m…"
      ]
     },
     "metadata": {},
     "output_type": "display_data"
    },
    {
     "data": {
      "application/vnd.jupyter.widget-view+json": {
       "model_id": "4902375d6dc24d1f961ee42013bcb4a8",
       "version_major": 2,
       "version_minor": 0
      },
      "text/plain": [
       "HBox(children=(IntSlider(value=2, description='a21', max=10, min=-10), IntSlider(value=2, description='a22', m…"
      ]
     },
     "metadata": {},
     "output_type": "display_data"
    },
    {
     "data": {
      "application/vnd.jupyter.widget-view+json": {
       "model_id": "d13a204969d3484c8e43482aadf0660f",
       "version_major": 2,
       "version_minor": 0
      },
      "text/plain": [
       "HBox(children=(IntSlider(value=0, description='b_1', max=10, min=-10), IntSlider(value=0, description='b_2', m…"
      ]
     },
     "metadata": {},
     "output_type": "display_data"
    },
    {
     "data": {
      "application/vnd.jupyter.widget-view+json": {
       "model_id": "a5f3b5b7029f4596b9c8cf7f2907ba71",
       "version_major": 2,
       "version_minor": 0
      },
      "text/plain": [
       "Output()"
      ]
     },
     "metadata": {},
     "output_type": "display_data"
    }
   ],
   "source": [
    "def f(b_1=0, a11=1, a21=2,\n",
    "      b_2=0, a12=1, a22=2,\n",
    "      b_3=0, a13=1, a23=2\n",
    "     ):\n",
    "    fig, axes = plt.subplots(figsize=(18,6), nrows=1, ncols=2)\n",
    "    \n",
    "    T = 365.25/7\n",
    "    ts = np.linspace(1, 52, 52)\n",
    "    angles = np.linspace(1, 52, 52) / T * 2 * π \n",
    "    X = np.vstack((np.sin(angles), np.cos(angles))).T\n",
    "    \n",
    "    y1s = [X @ np.array([a11, b_1]), X @ np.array([a21, b_1])]\n",
    "    y2s = [X @ np.array([a12, b_2]), X @ np.array([a22, b_2])]\n",
    "    y3s = [X @ np.array([a13, b_3]), X @ np.array([a23, b_3])]\n",
    "    \n",
    "    for a in range(len(axes)):\n",
    "        axes[a].plot(ts, y1s[a], 'r:')\n",
    "        axes[a].plot(ts, y2s[a], 'g:')\n",
    "        axes[a].plot(ts, y3s[a], 'b:')\n",
    "        axes[a].plot(ts, y1s[a] + y2s[a] + y3s[a], 'k-')\n",
    "        axes[a].set_ylim(-10, 10)\n",
    "        axes[a].set_xlim(0,52)\n",
    "\n",
    "    fig.show()\n",
    "\n",
    "interactive_plot = interactive(f, \n",
    "                               b_1=(-10, 10, 1),\n",
    "                               b_2=(-10, 10, 1),\n",
    "                               b_3=(-10, 10, 1),\n",
    "                               \n",
    "                               a11=(-10, 10, 1),\n",
    "                               a12=(-10, 10, 1),\n",
    "                               a13=(-10, 10, 1),\n",
    "                               \n",
    "                               a21=(-10, 10, 1),\n",
    "                               a22=(-10, 10, 1),\n",
    "                               a23=(-10, 10, 1),\n",
    "                               )\n",
    "# output = interactive_plot.children[-1]\n",
    "# output.layout.height = '350px'\n",
    "# interactive_plot\n",
    "\n",
    "display(HBox([a for a in interactive_plot.children if type(a) is IntSlider and a.description[:2] == 'a1']))\n",
    "display(HBox([a for a in interactive_plot.children if type(a) is IntSlider and a.description[:2] == 'a2']))\n",
    "display(HBox([a for a in interactive_plot.children if type(a) is IntSlider and a.description[:1] == 'b']))\n",
    "display(interactive_plot.children[-1])"
   ]
  },
  {
   "cell_type": "code",
   "execution_count": null,
   "metadata": {},
   "outputs": [],
   "source": []
  }
 ],
 "metadata": {
  "kernelspec": {
   "display_name": "Python 3 (ipykernel)",
   "language": "python",
   "name": "python3"
  },
  "language_info": {
   "codemirror_mode": {
    "name": "ipython",
    "version": 3
   },
   "file_extension": ".py",
   "mimetype": "text/x-python",
   "name": "python",
   "nbconvert_exporter": "python",
   "pygments_lexer": "ipython3",
   "version": "3.10.2"
  }
 },
 "nbformat": 4,
 "nbformat_minor": 4
}
